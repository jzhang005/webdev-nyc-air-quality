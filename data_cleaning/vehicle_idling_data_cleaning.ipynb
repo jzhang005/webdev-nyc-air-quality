{
  "nbformat": 4,
  "nbformat_minor": 0,
  "metadata": {
    "colab": {
      "name": "vehicle-idling-data-cleaning.ipynb",
      "version": "0.3.2",
      "provenance": [],
      "collapsed_sections": []
    },
    "kernelspec": {
      "name": "python3",
      "display_name": "Python 3"
    }
  },
  "cells": [
    {
      "cell_type": "markdown",
      "metadata": {
        "id": "5JN2-3Oe_54Z",
        "colab_type": "text"
      },
      "source": [
        "Clean up the vehicle idling dataset:\n",
        "```\n",
        "!pip install geopandas\n",
        "!pip install rtree\n",
        "!pip install pandas fiona shapely pyproj rtree\n",
        "!apt install libspatialindex-dev\n",
        "```\n",
        "\n"
      ]
    },
    {
      "cell_type": "code",
      "metadata": {
        "id": "tFEOvc-A13wA",
        "colab_type": "code",
        "colab": {}
      },
      "source": [
        "import pandas as pd\n",
        "import geopandas\n",
        "import matplotlib.pyplot as plt"
      ],
      "execution_count": 0,
      "outputs": []
    },
    {
      "cell_type": "code",
      "metadata": {
        "id": "4EfM6Kcy1_D8",
        "colab_type": "code",
        "colab": {}
      },
      "source": [
        "df = pd.read_json('VehicleIdling_org.json')\n",
        "df = df[['Latitude', 'Longitude']]"
      ],
      "execution_count": 0,
      "outputs": []
    },
    {
      "cell_type": "code",
      "metadata": {
        "id": "cei3XJNo2Dll",
        "colab_type": "code",
        "colab": {}
      },
      "source": [
        "gdf = geopandas.GeoDataFrame(\n",
        "    df, geometry=geopandas.points_from_xy(df.Longitude, df.Latitude))"
      ],
      "execution_count": 0,
      "outputs": []
    },
    {
      "cell_type": "code",
      "metadata": {
        "id": "75zp5PLl2KVr",
        "colab_type": "code",
        "colab": {
          "base_uri": "https://localhost:8080/",
          "height": 121
        },
        "outputId": "39a2dd19-3d84-4309-a170-054fc3b63031"
      },
      "source": [
        "print(gdf.head())"
      ],
      "execution_count": 4,
      "outputs": [
        {
          "output_type": "stream",
          "text": [
            "    Latitude  Longitude                                      geometry\n",
            "0  40.757072 -73.979574  POINT (-73.97957360153642 40.75707175090273)\n",
            "1  40.595541 -74.164521  POINT (-74.16452110964595 40.59554115156192)\n",
            "2  40.585445 -73.822096  POINT (-73.82209634713989 40.58544503178869)\n",
            "3  40.730946 -73.993249  POINT (-73.99324919465766 40.73094608874433)\n",
            "4  40.675663 -73.927688  POINT (-73.92768817444949 40.67566320795236)\n"
          ],
          "name": "stdout"
        }
      ]
    },
    {
      "cell_type": "code",
      "metadata": {
        "id": "maOTnQ0O3Y2j",
        "colab_type": "code",
        "colab": {}
      },
      "source": [
        "areas = geopandas.read_file('Neighborhood Tabulation Areas.geojson')"
      ],
      "execution_count": 0,
      "outputs": []
    },
    {
      "cell_type": "code",
      "metadata": {
        "id": "rJEGlLVd5P6L",
        "colab_type": "code",
        "colab": {
          "base_uri": "https://localhost:8080/",
          "height": 69
        },
        "outputId": "6c7d9df7-9015-43d0-d1cb-89745f6018b4"
      },
      "source": [
        "areas.columns"
      ],
      "execution_count": 6,
      "outputs": [
        {
          "output_type": "execute_result",
          "data": {
            "text/plain": [
              "Index(['ntacode', 'shape_area', 'county_fips', 'ntaname', 'shape_leng',\n",
              "       'boro_name', 'boro_code', 'geometry'],\n",
              "      dtype='object')"
            ]
          },
          "metadata": {
            "tags": []
          },
          "execution_count": 6
        }
      ]
    },
    {
      "cell_type": "code",
      "metadata": {
        "id": "puxpzK3E5qML",
        "colab_type": "code",
        "colab": {
          "base_uri": "https://localhost:8080/",
          "height": 52
        },
        "outputId": "a6ea3ae0-a437-4c01-c1b3-84f1612f4780"
      },
      "source": [
        "print(areas.crs)\n",
        "gdf.crs = {'init' :'epsg:4326'}\n",
        "print(gdf.crs)"
      ],
      "execution_count": 7,
      "outputs": [
        {
          "output_type": "stream",
          "text": [
            "{'init': 'epsg:4326'}\n",
            "{'init': 'epsg:4326'}\n"
          ],
          "name": "stdout"
        }
      ]
    },
    {
      "cell_type": "code",
      "metadata": {
        "id": "Ppzz5GQq3gEO",
        "colab_type": "code",
        "colab": {
          "base_uri": "https://localhost:8080/",
          "height": 202
        },
        "outputId": "6103cfcf-dba1-489e-a10d-7a33c03d9e16"
      },
      "source": [
        "result = geopandas.sjoin(gdf, areas[['ntaname', 'geometry']], how=\"inner\", op='intersects')\n",
        "result.head()"
      ],
      "execution_count": 8,
      "outputs": [
        {
          "output_type": "execute_result",
          "data": {
            "text/html": [
              "<div>\n",
              "<style scoped>\n",
              "    .dataframe tbody tr th:only-of-type {\n",
              "        vertical-align: middle;\n",
              "    }\n",
              "\n",
              "    .dataframe tbody tr th {\n",
              "        vertical-align: top;\n",
              "    }\n",
              "\n",
              "    .dataframe thead th {\n",
              "        text-align: right;\n",
              "    }\n",
              "</style>\n",
              "<table border=\"1\" class=\"dataframe\">\n",
              "  <thead>\n",
              "    <tr style=\"text-align: right;\">\n",
              "      <th></th>\n",
              "      <th>Latitude</th>\n",
              "      <th>Longitude</th>\n",
              "      <th>geometry</th>\n",
              "      <th>index_right</th>\n",
              "      <th>ntaname</th>\n",
              "    </tr>\n",
              "  </thead>\n",
              "  <tbody>\n",
              "    <tr>\n",
              "      <th>0</th>\n",
              "      <td>40.757072</td>\n",
              "      <td>-73.979574</td>\n",
              "      <td>POINT (-73.97957360153642 40.75707175090273)</td>\n",
              "      <td>100</td>\n",
              "      <td>Midtown-Midtown South</td>\n",
              "    </tr>\n",
              "    <tr>\n",
              "      <th>142</th>\n",
              "      <td>40.763887</td>\n",
              "      <td>-73.980164</td>\n",
              "      <td>POINT (-73.98016353684847 40.7638870522965)</td>\n",
              "      <td>100</td>\n",
              "      <td>Midtown-Midtown South</td>\n",
              "    </tr>\n",
              "    <tr>\n",
              "      <th>239</th>\n",
              "      <td>40.757546</td>\n",
              "      <td>-73.978740</td>\n",
              "      <td>POINT (-73.97873964579706 40.75754644086999)</td>\n",
              "      <td>100</td>\n",
              "      <td>Midtown-Midtown South</td>\n",
              "    </tr>\n",
              "    <tr>\n",
              "      <th>377</th>\n",
              "      <td>40.750746</td>\n",
              "      <td>-73.986036</td>\n",
              "      <td>POINT (-73.98603600797342 40.75074607561738)</td>\n",
              "      <td>100</td>\n",
              "      <td>Midtown-Midtown South</td>\n",
              "    </tr>\n",
              "    <tr>\n",
              "      <th>494</th>\n",
              "      <td>40.752706</td>\n",
              "      <td>-73.990681</td>\n",
              "      <td>POINT (-73.99068077325056 40.75270629442309)</td>\n",
              "      <td>100</td>\n",
              "      <td>Midtown-Midtown South</td>\n",
              "    </tr>\n",
              "  </tbody>\n",
              "</table>\n",
              "</div>"
            ],
            "text/plain": [
              "      Latitude  Longitude  ... index_right                ntaname\n",
              "0    40.757072 -73.979574  ...         100  Midtown-Midtown South\n",
              "142  40.763887 -73.980164  ...         100  Midtown-Midtown South\n",
              "239  40.757546 -73.978740  ...         100  Midtown-Midtown South\n",
              "377  40.750746 -73.986036  ...         100  Midtown-Midtown South\n",
              "494  40.752706 -73.990681  ...         100  Midtown-Midtown South\n",
              "\n",
              "[5 rows x 5 columns]"
            ]
          },
          "metadata": {
            "tags": []
          },
          "execution_count": 8
        }
      ]
    },
    {
      "cell_type": "code",
      "metadata": {
        "id": "-o58t6Uy6VYO",
        "colab_type": "code",
        "colab": {
          "base_uri": "https://localhost:8080/",
          "height": 233
        },
        "outputId": "bbe79e70-1fb8-4e04-92ca-6ff18e6571cf"
      },
      "source": [
        "output1 = result[['ntaname', 'index_right']]\n",
        "output2 = output1.groupby(['ntaname']).count()\n",
        "output2.rename(columns={'index_right':'count'}, inplace=True)\n",
        "output2.head()"
      ],
      "execution_count": 9,
      "outputs": [
        {
          "output_type": "execute_result",
          "data": {
            "text/html": [
              "<div>\n",
              "<style scoped>\n",
              "    .dataframe tbody tr th:only-of-type {\n",
              "        vertical-align: middle;\n",
              "    }\n",
              "\n",
              "    .dataframe tbody tr th {\n",
              "        vertical-align: top;\n",
              "    }\n",
              "\n",
              "    .dataframe thead th {\n",
              "        text-align: right;\n",
              "    }\n",
              "</style>\n",
              "<table border=\"1\" class=\"dataframe\">\n",
              "  <thead>\n",
              "    <tr style=\"text-align: right;\">\n",
              "      <th></th>\n",
              "      <th>count</th>\n",
              "    </tr>\n",
              "    <tr>\n",
              "      <th>ntaname</th>\n",
              "      <th></th>\n",
              "    </tr>\n",
              "  </thead>\n",
              "  <tbody>\n",
              "    <tr>\n",
              "      <th>Airport</th>\n",
              "      <td>2</td>\n",
              "    </tr>\n",
              "    <tr>\n",
              "      <th>Allerton-Pelham Gardens</th>\n",
              "      <td>42</td>\n",
              "    </tr>\n",
              "    <tr>\n",
              "      <th>Annadale-Huguenot-Prince's Bay-Eltingville</th>\n",
              "      <td>19</td>\n",
              "    </tr>\n",
              "    <tr>\n",
              "      <th>Arden Heights</th>\n",
              "      <td>25</td>\n",
              "    </tr>\n",
              "    <tr>\n",
              "      <th>Astoria</th>\n",
              "      <td>105</td>\n",
              "    </tr>\n",
              "  </tbody>\n",
              "</table>\n",
              "</div>"
            ],
            "text/plain": [
              "                                            count\n",
              "ntaname                                          \n",
              "Airport                                         2\n",
              "Allerton-Pelham Gardens                        42\n",
              "Annadale-Huguenot-Prince's Bay-Eltingville     19\n",
              "Arden Heights                                  25\n",
              "Astoria                                       105"
            ]
          },
          "metadata": {
            "tags": []
          },
          "execution_count": 9
        }
      ]
    },
    {
      "cell_type": "code",
      "metadata": {
        "id": "q9-69sL77Xud",
        "colab_type": "code",
        "colab": {}
      },
      "source": [
        "output2.to_json('VehicleIdling.json')"
      ],
      "execution_count": 0,
      "outputs": []
    }
  ]
}